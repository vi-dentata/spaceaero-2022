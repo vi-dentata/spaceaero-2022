{
  "nbformat": 4,
  "nbformat_minor": 0,
  "metadata": {
    "colab": {
      "name": "Kuznetsova_task3.ipynb",
      "provenance": [],
      "authorship_tag": "ABX9TyMuecSLcW9oz3XhS0dP6NTt",
      "include_colab_link": true
    },
    "kernelspec": {
      "name": "python3",
      "display_name": "Python 3"
    },
    "language_info": {
      "name": "python"
    }
  },
  "cells": [
    {
      "cell_type": "markdown",
      "metadata": {
        "id": "view-in-github",
        "colab_type": "text"
      },
      "source": [
        "<a href=\"https://colab.research.google.com/github/vi-dentata/spaceaero-2022/blob/main/Kuznetsova_task3.ipynb\" target=\"_parent\"><img src=\"https://colab.research.google.com/assets/colab-badge.svg\" alt=\"Open In Colab\"/></a>"
      ]
    },
    {
      "cell_type": "code",
      "source": [
        "import datetime\n",
        "import numpy as np\n",
        "def count_delta(c):\n",
        "  c = c.split('-')\n",
        "  aa = datetime.date(int(c[0]),1,1)\n",
        "  bb = datetime.date(int(c[0]),int(c[1]),int(c[2]))\n",
        "  cc = aa-bb\n",
        "  days = abs(int(str(cc).split()[0]))+1\n",
        "  delta = -23.1\n",
        "  #Изменение склонения за сутки принимают равным 0,4° в течение одного месяца до равноденствия и одного месяца после, \n",
        "  #изменение 0,1° в течение одного месяца до солнцестояний и одного месяца после солнцестояний; \n",
        "  #все остальное время изменение склонения Солнца принимают равным 0,3°.\n",
        "  if days < 21:\n",
        "    delta += days * 0.1\n",
        "  elif 21<=days<51:\n",
        "    delta += (0.3 * (days - 21) + 0.1 * 21)\n",
        "  elif 51 <= days < 110:\n",
        "    delta += (0.3 * (51 - 21) + 0.1 * 21 + (days - 51) * 0.4)\n",
        "  elif 110 <= days < 141:\n",
        "    delta += (0.3 * (51 - 21) + 0.1 * 21 + 59 * 0.4 + (days - 110) * 0.3)\n",
        "  elif 141 <= days < 172:\n",
        "    delta += (0.3 * (51 - 21) + 0.1 * 21 + 59 * 0.4 + (days - 110) * 0.3 + (days - 141) * 0.1)\n",
        "  elif 172 <= days < 202:\n",
        "    delta += (0.3 * (51 - 21) + 0.1 * 21 + 59 * 0.4 +  31 * 0.3 + 31 * 0.1 - (days - 172) * 0.1)\n",
        "  elif 202<=days<233:\n",
        "    delta += (0.3 * (51 - 21) + 0.1 * 21 + 59 * 0.4 +  31 * 0.3  - (days - 202) * 0.3)\n",
        "  elif 233 <= days < 294:\n",
        "    delta += (0.3 * (51 - 21) + 0.1 * 21 + 59 * 0.4 +  31 * 0.3  - 31 * 0.3 -(days - 233) * 0.4)\n",
        "  elif 294<=days<325:\n",
        "    delta += (0.3 * (51 - 21) + 0.1 * 21 + 59 * 0.4 +  31 * 0.3 - 31 * 0.3 + 61 * 0.4 - (days - 294) * 0.3)\n",
        "  else:\n",
        "    delta += (0.3 * (51 - 21) + 0.1 * 21 + 59 * 0.4 +  31 * 0.3 -31 * 0.3 + 61 * 0.4 - 31 * 0.3 + (days - 325) * 0.1)\n",
        "  return delta\n",
        "\n",
        "b = input(\"Введите дату (гггг-мм-дд): \")\n",
        "phi = float(input(\"Введите широту: \"))\n",
        "size_finger = float(input(\"Введите угловой размер пальца: \"))\n",
        "\n",
        "delta_sun = count_delta(b) * np.pi / 180\n",
        "phi = phi * np.pi / 180\n",
        "size_finger = size_finger * np.pi / 180\n",
        "t = np.arccos((-np.sin(phi) * np.sin(delta_sun)) / (np.cos(phi) * np.cos(delta_sun))) -  np.arccos((np.sin(size_finger)-np.sin(phi) * np.sin(delta_sun)) / (np.cos(phi) * np.cos(delta_sun)))\n",
        "t1 = t * 180 / np.pi * 4\n",
        "print(\"Время прохождения Солнцем одного пальца: \", t1, \"минут\")"
      ],
      "metadata": {
        "colab": {
          "base_uri": "https://localhost:8080/"
        },
        "id": "agggiOlBwFn_",
        "outputId": "36ad8dae-00e1-4919-d174-11307f0b8b8d"
      },
      "execution_count": 31,
      "outputs": [
        {
          "output_type": "stream",
          "name": "stdout",
          "text": [
            "Введите дату (гггг-мм-дд): 2022-03-20\n",
            "Введите широту: 55\n",
            "Введите угловой размер пальца: 1.35\n",
            "Время прохождения Солнцем одного пальца:  9.42304998709725 минут\n"
          ]
        }
      ]
    }
  ]
}