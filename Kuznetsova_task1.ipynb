{
  "nbformat": 4,
  "nbformat_minor": 0,
  "metadata": {
    "colab": {
      "name": "Kuznetsova_task1.ipynb",
      "provenance": [],
      "collapsed_sections": [],
      "authorship_tag": "ABX9TyMx+3eYgqLN0QslyNlsu3bN",
      "include_colab_link": true
    },
    "kernelspec": {
      "name": "python3",
      "display_name": "Python 3"
    },
    "language_info": {
      "name": "python"
    }
  },
  "cells": [
    {
      "cell_type": "markdown",
      "metadata": {
        "id": "view-in-github",
        "colab_type": "text"
      },
      "source": [
        "<a href=\"https://colab.research.google.com/github/vi-dentata/spaceaero-2022/blob/main/Kuznetsova_task1.ipynb\" target=\"_parent\"><img src=\"https://colab.research.google.com/assets/colab-badge.svg\" alt=\"Open In Colab\"/></a>"
      ]
    },
    {
      "cell_type": "code",
      "metadata": {
        "id": "bfDFxL7XrfYs"
      },
      "source": [
        "import numpy as np\n",
        "import matplotlib.pyplot as plt\n",
        "import time"
      ],
      "execution_count": 1,
      "outputs": []
    },
    {
      "cell_type": "code",
      "metadata": {
        "id": "8eQdJJXkrfbn"
      },
      "source": [
        "\"\"\"\n",
        "Введём систему отсчёта с началом отсчёта в центра земли. Ось X направим \n",
        "перпендикулярно экватору, ось Y сонаправлена с экватором\n",
        "\"\"\"\n",
        "\n",
        "Day = 86400\n",
        "M_earth = 5.9726e24    \n",
        "R_earth = 6.378100e6   \n",
        "G = 6.67e-11        \n",
        "k = 0.05\n",
        "Rgso = 3.5785e7\n",
        "#fuel exhaust velocity\n",
        "mu1 = 300\n",
        "mu2 = 200\n",
        "mu3 = 50   \n",
        "#fuel mass flow\n",
        "u1  = 4000\n",
        "u2  = 3000\n",
        "u3  = 700 #импульса при данной в условии скорости было недостаточно для выхода\n",
        "           #на геостациоанрную орбиту, поэтому было принято решение увеличить её\n",
        "#stage mass\n",
        "m1  = 80000\n",
        "m2  = 30000\n",
        "m3  = 2000 \n",
        "#payload\n",
        "pl1 = 30000\n",
        "pl2 = 2000\n",
        "pl3 = 5    \n",
        "#tank mass\n",
        "mt1 = k * m1\n",
        "mt2 = k * m2\n",
        "mt3 = k * m3\n",
        "#fuel mass\n",
        "mf1 = m1 - pl1 - mt1\n",
        "mf2 = m2 - pl2 - mt2\n",
        "mf3 = m3 - pl3 - mt3"
      ],
      "execution_count": 2,
      "outputs": []
    },
    {
      "cell_type": "code",
      "metadata": {
        "id": "qHy5lrZzrfgn"
      },
      "source": [
        "S = 2 \n",
        "Cx = 0.4\n",
        "\n",
        "def rho(r):\n",
        "  rho0 = 1.2 \n",
        "  h0 = 9000 \n",
        "  if r - R_earth <= 10*h0:\n",
        "    return rho0*np.exp(-(r - R_earth)/h0)\n",
        "  else:\n",
        "    return 0\n",
        "\n",
        "\n",
        "def g(r):\n",
        "  return G * M_earth / r**2"
      ],
      "execution_count": 3,
      "outputs": []
    },
    {
      "cell_type": "code",
      "metadata": {
        "colab": {
          "base_uri": "https://localhost:8080/",
          "height": 1000
        },
        "id": "ebBV5bSjrfjk",
        "outputId": "be281af4-da47-4f81-9f8a-bf6d49ba27d8"
      },
      "source": [
        "\"\"\"\n",
        "Введём систему отсчёта с началом отсчёта в центра земли. Ось X направим \n",
        "перпендикулярно экватору, ось Y сонаправлена с экватором\n",
        "\"\"\"\n",
        "\n",
        "Day = 86400\n",
        "M_earth = 5.9726e24    \n",
        "R_earth = 6.378100e6   \n",
        "G = 6.67e-11        \n",
        "k = 0.05\n",
        "Rgso = 3.5785e7\n",
        "#fuel exhaust velocity\n",
        "mu1 = 300\n",
        "mu2 = 200\n",
        "mu3 = 50   \n",
        "#fuel mass flow\n",
        "u1  = 4000\n",
        "u2  = 3000\n",
        "u3  = 750 #импульса при данной в условии скорости было недостаточно для выхода\n",
        "           #на геостациоанрную орбиту, поэтому было принято решение увеличить её\n",
        "#stage mass\n",
        "m1  = 80000\n",
        "m2  = 30000\n",
        "m3  = 2000 \n",
        "#payload\n",
        "pl1 = 30000\n",
        "pl2 = 2000\n",
        "pl3 = 5    \n",
        "#tank mass\n",
        "mt1 = k * m1\n",
        "mt2 = k * m2\n",
        "mt3 = k * m3\n",
        "#fuel mass\n",
        "mf1 = m1 - pl1 - mt1\n",
        "mf2 = m2 - pl2 - mt2\n",
        "mf3 = m3 - pl3 - mt3\n",
        "\n",
        "\n",
        "x = [1e-10]\n",
        "y = [R_earth]\n",
        "vx = [2 * np.pi * R_earth / Day] # старт производится с экватора, в силу того что в\n",
        "                            # таком случае добавка к скорости ракеты(скорость \n",
        "                            # вращения Земли) будет максимальна\n",
        "vy = [0]\n",
        "dt = 0.01\n",
        "t = 0\n",
        "m = m1\n",
        "r_rocket_earth = []\n",
        "tim = []\n",
        "\"\"\"\n",
        "1 этап полёта. Взлёт строго вверх. \n",
        "\"\"\"\n",
        "while mf1 > 0:\n",
        "  r = np.sqrt(x[-1] ** 2 + y[-1]**2)\n",
        "  v = np.sqrt(vx[-1] ** 2 + vy[-1] ** 2)\n",
        "  beta = np.arctan(y[-1] / x[-1])\n",
        "  gamma = np.arctan(vy[-1] / vx[-1])\n",
        "  ax = ( - m * g(r) * np.cos(beta)) / m #Будем учитывать только силу тяжести по этой оси\n",
        "  ay = (-rho(r) * v ** 2 / 2 * Cx * S * np.sin(gamma) - m * g(r) * np.sin(beta) + mu1 * u1) / m\n",
        "  vx.append(vx[-1] + ax * dt)\n",
        "  vy.append(vy[-1] + ay * dt)\n",
        "  x.append(x[-1] + vx[-1] * dt)\n",
        "  y.append(y[-1] + vy[-1] * dt)\n",
        "  t += dt\n",
        "  m -= mu1 * dt\n",
        "  mf1 -= mu1* dt\n",
        "  r_rocket_earth.append(r)\n",
        "  tim.append(t)\n",
        "print(\"1 ступень отработана\")\n",
        "print(\"Cкорость\", v, \"м/с\")\n",
        "print(\"Высота\", (r - R_earth) / 1000, 'км')\n",
        "print('Время полёта', time.strftime(\"%H:%M:%S\",time.gmtime(t)))\n",
        "\n",
        "plt.xlabel(\"x, м\")\n",
        "plt.ylabel(\"y, м\")\n",
        "plt.plot(x, y)\n",
        "plt.axis('square')\n",
        "plt.show()\n",
        "\n",
        "\"\"\"\n",
        "2 этап полёта. Поворот ракеты на угол α. Отработка 2 ступени\n",
        "\"\"\"\n",
        "alpha = 59 * np.pi / 180\n",
        "vx.append(v * np.cos(alpha))\n",
        "vy.append(v * np.sin(alpha))\n",
        "x.append(x[-1])\n",
        "y.append(y[-1])\n",
        "m = m2\n",
        "while mf2 > 0:\n",
        "  r = np.sqrt(x[-1] ** 2 + y[-1]**2)\n",
        "  v = np.sqrt(vx[-1] ** 2 + vy[-1] ** 2)\n",
        "  beta = np.arctan(y[-1] / x[-1])\n",
        "  gamma = np.arctan(vy[-1] / vx[-1])\n",
        "  ax = ( - m * g(r) * np.cos(beta) + mu2 * u2 * np.cos(gamma)) / m\n",
        "  ay = ( - m * g(r) * np.sin(beta) + mu2 * u2 * np.sin(gamma)) / m\n",
        "  vx.append(vx[-1] + ax * dt)\n",
        "  vy.append(vy[-1] + ay * dt)\n",
        "  x.append(x[-1] + vx[-1] * dt)\n",
        "  y.append(y[-1] + vy[-1] * dt)\n",
        "  t += dt\n",
        "  m -= mu2 * dt\n",
        "  mf2 -= mu2* dt\n",
        "  r_rocket_earth.append(r)\n",
        "  tim.append(t)\n",
        "\n",
        "print(\"2 ступень отрабтотана\")\n",
        "print(\"Cкорость\", v, \"м/с\")\n",
        "print(\"Высота\", (r - R_earth) / 1000, 'км')\n",
        "print('Время полёта', time.strftime(\"%H:%M:%S\",time.gmtime(t)))\n",
        "\n",
        "plt.xlabel(\"x, м\")\n",
        "plt.ylabel(\"y, м\")\n",
        "plt.plot(x, y)\n",
        "plt.axis('square')\n",
        "plt.show()\n",
        "\n",
        "\"\"\"\n",
        "3 этап полёта. Включим двигатели 3 ступени, на такое время, что полученная скорость\n",
        "была равна скорости в перицентре орбиты, апоцентр которой удален на радиус\n",
        "геостационарной орбиты \n",
        "\"\"\"\n",
        "v_new = np.sqrt(G * M_earth * (2 / r - 1 / ((r + Rgso + R_earth)/ 2)))\n",
        "m = m3\n",
        "tao = 0\n",
        "dt = 0.001 #При включении двигателей 3 ступени требовалась более точная настройка\n",
        "           #для достижения требуемой скорости.\n",
        "           #Подбиралось время работы ступени\n",
        "while tao < 38.766:\n",
        "  r = np.sqrt(x[-1] ** 2 + y[-1]**2)\n",
        "  v = np.sqrt(vx[-1] ** 2 + vy[-1] ** 2)\n",
        "  beta = np.arctan(y[-1] / x[-1])\n",
        "  gamma = np.arctan(vy[-1] / vx[-1])\n",
        "  ax = ( - m * g(r) * np.cos(beta) + mu3 * u3 * np.cos(gamma)) / m\n",
        "  ay = ( - m * g(r) * np.sin(beta) + mu3 * u3 * np.sin(gamma)) / m\n",
        "  vx.append(vx[-1] + ax * dt)\n",
        "  vy.append(vy[-1] + ay * dt)\n",
        "  x.append(x[-1] + vx[-1] * dt)\n",
        "  y.append(y[-1] + vy[-1] * dt)\n",
        "  t += dt\n",
        "  m -= mu3 * dt\n",
        "  mf3 -= mu3* dt\n",
        "  r_rocket_earth.append(r)\n",
        "  tim.append(t)\n",
        "  tao+= dt\n",
        "print(\"1 включение 3 ступени\")\n",
        "print(\"Cкорость\", v, \"м/с\")\n",
        "print(\"Высота\", (r - R_earth) / 1000, 'км')\n",
        "print('Время полёта', time.strftime(\"%H:%M:%S\",time.gmtime(t)))\n",
        "\n",
        "plt.xlabel(\"x, м\")\n",
        "plt.ylabel(\"y, м\")\n",
        "plt.plot(x, y)\n",
        "plt.axis('square')\n",
        "plt.show()\n",
        "\n",
        "\"\"\"\n",
        "4 этап полёта. Долетим до апоцентра полученной орбиты\n",
        "\"\"\"\n",
        "dt = 0.01\n",
        "vx.append(v)\n",
        "vy.append(0)\n",
        "x.append(x[-1])\n",
        "y.append(y[-1])\n",
        "pr = 0\n",
        "while pr < np.sqrt(x[-1] ** 2 + y[-1]**2):\n",
        "  r = np.sqrt(x[-1] ** 2 + y[-1]**2)\n",
        "  v = np.sqrt(vx[-1] ** 2 + vy[-1] ** 2)\n",
        "  beta = np.arctan(y[-1] / x[-1])\n",
        "  ax = ( - m * g(r) * np.cos(beta)) / m\n",
        "  ay = ( - m * g(r) * np.sin(beta)) / m\n",
        "  vx.append(vx[-1] + ax * dt)\n",
        "  vy.append(vy[-1] + ay * dt)\n",
        "  x.append(x[-1] + vx[-1] * dt)\n",
        "  y.append(y[-1] + vy[-1] * dt)\n",
        "  t += dt\n",
        "  pr = r\n",
        "  r_rocket_earth.append(r)\n",
        "  tim.append(t)  \n",
        "print(\"Полёт до апоцентра\")\n",
        "print(\"Cкорость\", v, \"м/с\")\n",
        "print(\"Высота\", (r - R_earth) / 1000, 'км')\n",
        "print('Время полёта', time.strftime(\"%H:%M:%S\",time.gmtime(t)))\n",
        "\n",
        "\n",
        "plt.xlabel(\"x, м\")\n",
        "plt.ylabel(\"y, м\")\n",
        "plt.plot(x, y)\n",
        "plt.axis('square')\n",
        "plt.show()\n",
        "\"\"\"\n",
        "5 этап полёта. Повторное включение двигателей 3 ступени, с целью выхода на \n",
        "круговую орбиту\n",
        "\"\"\"\n",
        "v_new =  np.sqrt(G * M_earth * (2 / r - 1 / ((r + Rgso + R_earth)/ 2)))\n",
        "tao = 0\n",
        "dt = 0.001\n",
        "while tao < 1.050:\n",
        "  r = np.sqrt(x[-1] ** 2 + y[-1]**2)\n",
        "  v = np.sqrt(vx[-1] ** 2 + vy[-1] ** 2)\n",
        "  beta = np.arctan(y[-1] / x[-1])\n",
        "  gamma = np.arctan(vy[-1] / vx[-1])\n",
        "  ax = ( - m * g(r) * np.cos(beta) - mu3 * u3 * np.cos(gamma)) / m\n",
        "  ay = ( - m * g(r) * np.sin(beta) - mu3 * u3 * np.sin(gamma)) / m\n",
        "  vx.append(vx[-1] + ax * dt)\n",
        "  vy.append(vy[-1] + ay * dt)\n",
        "  x.append(x[-1] + vx[-1] * dt)\n",
        "  y.append(y[-1] + vy[-1] * dt)\n",
        "  t += dt\n",
        "  m -= mu3 * dt\n",
        "  mf3 -= mu3* dt\n",
        "  r_rocket_earth.append(r)\n",
        "  tim.append(t)  \n",
        "  tao += dt\n",
        "\n",
        "print(\"3 ступень отработана\")\n",
        "print(\"Cкорость\", v, \"м/с\")\n",
        "print(\"Высота\", (r - R_earth) / 1000, 'км')\n",
        "print('Время полёта', time.strftime(\"%H:%M:%S\",time.gmtime(t)))\n",
        "\n",
        "plt.ylabel(\"y, м\")\n",
        "plt.plot(x, y)\n",
        "plt.axis('square')\n",
        "plt.show()\n",
        "\n",
        "\"\"\"\n",
        "6 этап полёта. Пролёт по полученной орбите\n",
        "\"\"\"\n",
        "dt = 1\n",
        "while t<300000:\n",
        "  r = np.sqrt(x[-1] ** 2 + y[-1]**2)\n",
        "  v = np.sqrt(vx[-1] ** 2 + vy[-1] ** 2)\n",
        "  beta = np.arctan(abs(y[-1] / x[-1]))\n",
        "  if(x[-1] < 0):\n",
        "   ax = ( m * g(r) * np.cos(beta)) / m\n",
        "  else:\n",
        "    ax = ( -m * g(r) * np.cos(beta)) / m\n",
        "  if(y[-1] < 0):\n",
        "    ay = ( m * g(r) * np.sin(beta)) / m\n",
        "  else:\n",
        "    ay = (- m * g(r) * np.sin(beta)) / m\n",
        "  vx.append(vx[-1] + ax * dt)\n",
        "  vy.append(vy[-1] + ay * dt)\n",
        "  x.append(x[-1] + vx[-1] * dt)\n",
        "  y.append(y[-1] + vy[-1] * dt)\n",
        "  t += dt\n",
        "  r_rocket_earth.append(r)\n",
        "  tim.append(t)\n",
        "print(\"Пролёт по орбите\")\n",
        "print(\"Cкорость\", v, \"м/с\")\n",
        "print(\"Высота\", (r - R_earth) / 1000, 'км')\n",
        "print('Время полёта', time.strftime(\"%H:%M:%S\",time.gmtime(t)))\n",
        "\n",
        "plt.xlabel(\"x, м\")\n",
        "plt.ylabel(\"y, м\")\n",
        "plt.plot(x, y)\n",
        "plt.axis('square')\n",
        "plt.show()"
      ],
      "execution_count": 4,
      "outputs": [
        {
          "output_type": "stream",
          "name": "stdout",
          "text": [
            "1 ступень отработана\n",
            "Cкорость 1949.2938702985298 м/с\n",
            "Высота 107.2890018976545 км\n",
            "Время полёта 00:02:33\n"
          ]
        },
        {
          "output_type": "display_data",
          "data": {
            "image/png": "[encoded data removed]",
            "text/plain": [
              "<Figure size 432x288 with 1 Axes>"
            ]
          },
          "metadata": {
            "needs_background": "light"
          }
        },
        {
          "output_type": "stream",
          "name": "stdout",
          "text": [
            "2 ступень отрабтотана\n",
            "Cкорость 7434.3901342706295 м/с\n",
            "Высота 482.3722065188559 км\n",
            "Время полёта 00:04:45\n"
          ]
        },
        {
          "output_type": "display_data",
          "data": {
            "image/png": "[encoded data removed]",
            "text/plain": [
              "<Figure size 432x288 with 1 Axes>"
            ]
          },
          "metadata": {
            "needs_background": "light"
          }
        },
        {
          "output_type": "stream",
          "name": "stdout",
          "text": [
            "1 включение 3 ступени\n",
            "Cкорость 9803.41284428404 м/с\n",
            "Высота 716.8897311769957 км\n",
            "Время полёта 00:05:24\n"
          ]
        },
        {
          "output_type": "display_data",
          "data": {
            "image/png": "[encoded data removed]",
            "text/plain": [
              "<Figure size 432x288 with 1 Axes>"
            ]
          },
          "metadata": {
            "needs_background": "light"
          }
        },
        {
          "output_type": "stream",
          "name": "stdout",
          "text": [
            "Полёт до апоцентра\n",
            "Cкорость 1643.3347387211384 м/с\n",
            "Высота 35799.08912773292 км\n",
            "Время полёта 05:23:12\n"
          ]
        },
        {
          "output_type": "display_data",
          "data": {
            "image/png": "[encoded data removed]",
            "text/plain": [
              "<Figure size 432x288 with 1 Axes>"
            ]
          },
          "metadata": {
            "needs_background": "light"
          }
        },
        {
          "output_type": "stream",
          "name": "stdout",
          "text": [
            "3 ступень отработана\n",
            "Cкорость 3068.9127341229605 м/с\n",
            "Высота 35799.08903471524 км\n",
            "Время полёта 05:23:13\n"
          ]
        },
        {
          "output_type": "display_data",
          "data": {
            "image/png": "[encoded data removed]",
            "text/plain": [
              "<Figure size 432x288 with 1 Axes>"
            ]
          },
          "metadata": {
            "needs_background": "light"
          }
        },
        {
          "output_type": "stream",
          "name": "stdout",
          "text": [
            "Пролёт по орбите\n",
            "Cкорость 3073.94080305216 м/с\n",
            "Высота 35786.02750904761 км\n",
            "Время полёта 11:20:00\n"
          ]
        },
        {
          "output_type": "display_data",
          "data": {
            "image/png": "[encoded data removed]",
            "text/plain": [
              "<Figure size 432x288 with 1 Axes>"
            ]
          },
          "metadata": {
            "needs_background": "light"
          }
        }
      ]
    },
    {
      "cell_type": "code",
      "metadata": {
        "id": "yz0PD1csheIR",
        "colab": {
          "base_uri": "https://localhost:8080/",
          "height": 290
        },
        "outputId": "7430cb57-68f4-4fae-9e81-536a8bdb4dbc"
      },
      "source": [
        "#Из графика расстояния до центра Земли видно, что нам удалось выйти на круговую орбиту\n",
        "plt.xlabel(\"t, с\")\n",
        "plt.ylabel(\"r, м\")\n",
        "plt.plot(tim, r_rocket_earth)\n",
        "\n",
        "plt.show()"
      ],
      "execution_count": 5,
      "outputs": [
        {
          "output_type": "display_data",
          "data": {
            "image/png": "[encoded data removed]",
            "text/plain": [
              "<Figure size 432x288 with 1 Axes>"
            ]
          },
          "metadata": {
            "needs_background": "light"
          }
        }
      ]
    }
  ]
}